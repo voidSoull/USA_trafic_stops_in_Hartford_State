{
 "cells": [
  {
   "cell_type": "code",
   "execution_count": 32,
   "id": "48097976",
   "metadata": {},
   "outputs": [],
   "source": [
    "import pandas as pd\n",
    "import matplotlib.pyplot as plt\n",
    "import numpy as np\n",
    "import seaborn as sns"
   ]
  },
  {
   "cell_type": "code",
   "execution_count": 33,
   "id": "33fed010",
   "metadata": {},
   "outputs": [
    {
     "data": {
      "text/html": [
       "<div>\n",
       "<style scoped>\n",
       "    .dataframe tbody tr th:only-of-type {\n",
       "        vertical-align: middle;\n",
       "    }\n",
       "\n",
       "    .dataframe tbody tr th {\n",
       "        vertical-align: top;\n",
       "    }\n",
       "\n",
       "    .dataframe thead th {\n",
       "        text-align: right;\n",
       "    }\n",
       "</style>\n",
       "<table border=\"1\" class=\"dataframe\">\n",
       "  <thead>\n",
       "    <tr style=\"text-align: right;\">\n",
       "      <th></th>\n",
       "      <th>raw_row_number</th>\n",
       "      <th>date</th>\n",
       "      <th>time</th>\n",
       "      <th>location</th>\n",
       "      <th>lat</th>\n",
       "      <th>lng</th>\n",
       "      <th>district</th>\n",
       "      <th>subject_age</th>\n",
       "      <th>subject_race</th>\n",
       "      <th>subject_sex</th>\n",
       "      <th>...</th>\n",
       "      <th>outcome</th>\n",
       "      <th>contraband_found</th>\n",
       "      <th>search_conducted</th>\n",
       "      <th>search_vehicle</th>\n",
       "      <th>search_basis</th>\n",
       "      <th>reason_for_stop</th>\n",
       "      <th>raw_subject_race_code</th>\n",
       "      <th>raw_subject_ethnicity_code</th>\n",
       "      <th>raw_search_authorization_code</th>\n",
       "      <th>raw_intervention_disposition_code</th>\n",
       "    </tr>\n",
       "  </thead>\n",
       "  <tbody>\n",
       "    <tr>\n",
       "      <th>0</th>\n",
       "      <td>1</td>\n",
       "      <td>2013-10-13</td>\n",
       "      <td>15:21:00</td>\n",
       "      <td>LINNMORE ST AT ROGER</td>\n",
       "      <td>41.732189</td>\n",
       "      <td>-72.699760</td>\n",
       "      <td>SOUTH WEST</td>\n",
       "      <td>38.0</td>\n",
       "      <td>hispanic</td>\n",
       "      <td>female</td>\n",
       "      <td>...</td>\n",
       "      <td>citation</td>\n",
       "      <td>NaN</td>\n",
       "      <td>False</td>\n",
       "      <td>False</td>\n",
       "      <td>NaN</td>\n",
       "      <td>Stop Sign</td>\n",
       "      <td>W</td>\n",
       "      <td>H</td>\n",
       "      <td>N</td>\n",
       "      <td>I</td>\n",
       "    </tr>\n",
       "    <tr>\n",
       "      <th>1</th>\n",
       "      <td>2</td>\n",
       "      <td>2013-10-24</td>\n",
       "      <td>01:12:00</td>\n",
       "      <td>HAWTHORN STREET @ IMLAY STREET</td>\n",
       "      <td>41.764621</td>\n",
       "      <td>-72.695362</td>\n",
       "      <td>ASYLUM HILL</td>\n",
       "      <td>20.0</td>\n",
       "      <td>black</td>\n",
       "      <td>male</td>\n",
       "      <td>...</td>\n",
       "      <td>citation</td>\n",
       "      <td>NaN</td>\n",
       "      <td>False</td>\n",
       "      <td>False</td>\n",
       "      <td>NaN</td>\n",
       "      <td>Defective Lights</td>\n",
       "      <td>B</td>\n",
       "      <td>N</td>\n",
       "      <td>N</td>\n",
       "      <td>I</td>\n",
       "    </tr>\n",
       "    <tr>\n",
       "      <th>2</th>\n",
       "      <td>3</td>\n",
       "      <td>2013-10-26</td>\n",
       "      <td>10:06:00</td>\n",
       "      <td>NEW PARK MIRRILL</td>\n",
       "      <td>41.747837</td>\n",
       "      <td>-72.712933</td>\n",
       "      <td>PARKVILLE</td>\n",
       "      <td>26.0</td>\n",
       "      <td>white</td>\n",
       "      <td>female</td>\n",
       "      <td>...</td>\n",
       "      <td>citation</td>\n",
       "      <td>NaN</td>\n",
       "      <td>False</td>\n",
       "      <td>False</td>\n",
       "      <td>NaN</td>\n",
       "      <td>Traffic Control Signal</td>\n",
       "      <td>W</td>\n",
       "      <td>N</td>\n",
       "      <td>N</td>\n",
       "      <td>I</td>\n",
       "    </tr>\n",
       "    <tr>\n",
       "      <th>3</th>\n",
       "      <td>4</td>\n",
       "      <td>2013-10-26</td>\n",
       "      <td>18:06:00</td>\n",
       "      <td>nfew park at merrill st</td>\n",
       "      <td>41.748069</td>\n",
       "      <td>-72.712641</td>\n",
       "      <td>PARKVILLE</td>\n",
       "      <td>26.0</td>\n",
       "      <td>white</td>\n",
       "      <td>female</td>\n",
       "      <td>...</td>\n",
       "      <td>citation</td>\n",
       "      <td>NaN</td>\n",
       "      <td>False</td>\n",
       "      <td>False</td>\n",
       "      <td>NaN</td>\n",
       "      <td>Traffic Control Signal</td>\n",
       "      <td>W</td>\n",
       "      <td>N</td>\n",
       "      <td>N</td>\n",
       "      <td>I</td>\n",
       "    </tr>\n",
       "    <tr>\n",
       "      <th>4</th>\n",
       "      <td>5</td>\n",
       "      <td>2013-10-26</td>\n",
       "      <td>19:56:00</td>\n",
       "      <td>SUMMIT ST AT ZION ST</td>\n",
       "      <td>41.753945</td>\n",
       "      <td>-72.693278</td>\n",
       "      <td>FROG HOLLOW</td>\n",
       "      <td>39.0</td>\n",
       "      <td>white</td>\n",
       "      <td>male</td>\n",
       "      <td>...</td>\n",
       "      <td>citation</td>\n",
       "      <td>NaN</td>\n",
       "      <td>False</td>\n",
       "      <td>False</td>\n",
       "      <td>NaN</td>\n",
       "      <td>Stop Sign</td>\n",
       "      <td>W</td>\n",
       "      <td>N</td>\n",
       "      <td>N</td>\n",
       "      <td>I</td>\n",
       "    </tr>\n",
       "  </tbody>\n",
       "</table>\n",
       "<p>5 rows × 26 columns</p>\n",
       "</div>"
      ],
      "text/plain": [
       "  raw_row_number        date      time                        location  \\\n",
       "0              1  2013-10-13  15:21:00            LINNMORE ST AT ROGER   \n",
       "1              2  2013-10-24  01:12:00  HAWTHORN STREET @ IMLAY STREET   \n",
       "2              3  2013-10-26  10:06:00                NEW PARK MIRRILL   \n",
       "3              4  2013-10-26  18:06:00         nfew park at merrill st   \n",
       "4              5  2013-10-26  19:56:00            SUMMIT ST AT ZION ST   \n",
       "\n",
       "         lat        lng     district  subject_age subject_race subject_sex  \\\n",
       "0  41.732189 -72.699760   SOUTH WEST         38.0     hispanic      female   \n",
       "1  41.764621 -72.695362  ASYLUM HILL         20.0        black        male   \n",
       "2  41.747837 -72.712933    PARKVILLE         26.0        white      female   \n",
       "3  41.748069 -72.712641    PARKVILLE         26.0        white      female   \n",
       "4  41.753945 -72.693278  FROG HOLLOW         39.0        white        male   \n",
       "\n",
       "   ...   outcome contraband_found search_conducted search_vehicle  \\\n",
       "0  ...  citation              NaN            False          False   \n",
       "1  ...  citation              NaN            False          False   \n",
       "2  ...  citation              NaN            False          False   \n",
       "3  ...  citation              NaN            False          False   \n",
       "4  ...  citation              NaN            False          False   \n",
       "\n",
       "   search_basis         reason_for_stop raw_subject_race_code  \\\n",
       "0           NaN               Stop Sign                     W   \n",
       "1           NaN        Defective Lights                     B   \n",
       "2           NaN  Traffic Control Signal                     W   \n",
       "3           NaN  Traffic Control Signal                     W   \n",
       "4           NaN               Stop Sign                     W   \n",
       "\n",
       "  raw_subject_ethnicity_code  raw_search_authorization_code  \\\n",
       "0                          H                              N   \n",
       "1                          N                              N   \n",
       "2                          N                              N   \n",
       "3                          N                              N   \n",
       "4                          N                              N   \n",
       "\n",
       "  raw_intervention_disposition_code  \n",
       "0                                 I  \n",
       "1                                 I  \n",
       "2                                 I  \n",
       "3                                 I  \n",
       "4                                 I  \n",
       "\n",
       "[5 rows x 26 columns]"
      ]
     },
     "execution_count": 33,
     "metadata": {},
     "output_type": "execute_result"
    }
   ],
   "source": [
    "# Load the data into pandas DataFrame\n",
    "hf = pd.read_csv('police.csv') \n",
    "hf.head()"
   ]
  },
  {
   "cell_type": "code",
   "execution_count": 34,
   "id": "47800dd2",
   "metadata": {
    "scrolled": false
   },
   "outputs": [
    {
     "name": "stdout",
     "output_type": "stream",
     "text": [
      "(18439, 26)\n"
     ]
    },
    {
     "data": {
      "text/plain": [
       "raw_row_number                           0\n",
       "date                                     4\n",
       "time                                     4\n",
       "location                                 0\n",
       "lat                                    210\n",
       "lng                                    210\n",
       "district                              1231\n",
       "subject_age                              4\n",
       "subject_race                             0\n",
       "subject_sex                              0\n",
       "officer_id_hash                          0\n",
       "department_name                          0\n",
       "type                                     0\n",
       "arrest_made                              5\n",
       "citation_issued                          0\n",
       "warning_issued                           0\n",
       "outcome                               2522\n",
       "contraband_found                     13254\n",
       "search_conducted                         0\n",
       "search_vehicle                           2\n",
       "search_basis                         13255\n",
       "reason_for_stop                          0\n",
       "raw_subject_race_code                    0\n",
       "raw_subject_ethnicity_code               0\n",
       "raw_search_authorization_code            0\n",
       "raw_intervention_disposition_code        0\n",
       "dtype: int64"
      ]
     },
     "execution_count": 34,
     "metadata": {},
     "output_type": "execute_result"
    }
   ],
   "source": [
    "print(hf.shape)\n",
    "hf.isna().sum()"
   ]
  },
  {
   "cell_type": "markdown",
   "id": "433a07c0",
   "metadata": {},
   "source": [
    "## 1-Cleaning and verification of the data"
   ]
  },
  {
   "cell_type": "code",
   "execution_count": 35,
   "id": "89cc52ef",
   "metadata": {},
   "outputs": [],
   "source": [
    "# Dropping lat and lng cause location values exist and all columns starting with raw\n",
    "hf.drop(['raw_row_number', 'lat','lng','raw_subject_race_code','raw_subject_ethnicity_code','raw_search_authorization_code','raw_intervention_disposition_code'], axis='columns', inplace=True)"
   ]
  },
  {
   "cell_type": "code",
   "execution_count": 36,
   "id": "5d7839a6",
   "metadata": {},
   "outputs": [
    {
     "data": {
      "text/html": [
       "<div>\n",
       "<style scoped>\n",
       "    .dataframe tbody tr th:only-of-type {\n",
       "        vertical-align: middle;\n",
       "    }\n",
       "\n",
       "    .dataframe tbody tr th {\n",
       "        vertical-align: top;\n",
       "    }\n",
       "\n",
       "    .dataframe thead th {\n",
       "        text-align: right;\n",
       "    }\n",
       "</style>\n",
       "<table border=\"1\" class=\"dataframe\">\n",
       "  <thead>\n",
       "    <tr style=\"text-align: right;\">\n",
       "      <th></th>\n",
       "      <th>date</th>\n",
       "      <th>time</th>\n",
       "      <th>location</th>\n",
       "      <th>district</th>\n",
       "      <th>subject_age</th>\n",
       "      <th>subject_race</th>\n",
       "      <th>subject_sex</th>\n",
       "      <th>officer_id_hash</th>\n",
       "      <th>department_name</th>\n",
       "      <th>type</th>\n",
       "      <th>arrest_made</th>\n",
       "      <th>citation_issued</th>\n",
       "      <th>warning_issued</th>\n",
       "      <th>outcome</th>\n",
       "      <th>contraband_found</th>\n",
       "      <th>search_conducted</th>\n",
       "      <th>search_vehicle</th>\n",
       "      <th>search_basis</th>\n",
       "      <th>reason_for_stop</th>\n",
       "    </tr>\n",
       "  </thead>\n",
       "  <tbody>\n",
       "    <tr>\n",
       "      <th>0</th>\n",
       "      <td>2013-10-13</td>\n",
       "      <td>15:21:00</td>\n",
       "      <td>LINNMORE ST AT ROGER</td>\n",
       "      <td>SOUTH WEST</td>\n",
       "      <td>38.0</td>\n",
       "      <td>hispanic</td>\n",
       "      <td>female</td>\n",
       "      <td>9623b482ee</td>\n",
       "      <td>Hartford</td>\n",
       "      <td>vehicular</td>\n",
       "      <td>False</td>\n",
       "      <td>True</td>\n",
       "      <td>False</td>\n",
       "      <td>citation</td>\n",
       "      <td>NaN</td>\n",
       "      <td>False</td>\n",
       "      <td>False</td>\n",
       "      <td>NaN</td>\n",
       "      <td>Stop Sign</td>\n",
       "    </tr>\n",
       "    <tr>\n",
       "      <th>1</th>\n",
       "      <td>2013-10-24</td>\n",
       "      <td>01:12:00</td>\n",
       "      <td>HAWTHORN STREET @ IMLAY STREET</td>\n",
       "      <td>ASYLUM HILL</td>\n",
       "      <td>20.0</td>\n",
       "      <td>black</td>\n",
       "      <td>male</td>\n",
       "      <td>616e63d3fb</td>\n",
       "      <td>Hartford</td>\n",
       "      <td>vehicular</td>\n",
       "      <td>False</td>\n",
       "      <td>True</td>\n",
       "      <td>False</td>\n",
       "      <td>citation</td>\n",
       "      <td>NaN</td>\n",
       "      <td>False</td>\n",
       "      <td>False</td>\n",
       "      <td>NaN</td>\n",
       "      <td>Defective Lights</td>\n",
       "    </tr>\n",
       "    <tr>\n",
       "      <th>2</th>\n",
       "      <td>2013-10-26</td>\n",
       "      <td>10:06:00</td>\n",
       "      <td>NEW PARK MIRRILL</td>\n",
       "      <td>PARKVILLE</td>\n",
       "      <td>26.0</td>\n",
       "      <td>white</td>\n",
       "      <td>female</td>\n",
       "      <td>9623b482ee</td>\n",
       "      <td>Hartford</td>\n",
       "      <td>vehicular</td>\n",
       "      <td>False</td>\n",
       "      <td>True</td>\n",
       "      <td>False</td>\n",
       "      <td>citation</td>\n",
       "      <td>NaN</td>\n",
       "      <td>False</td>\n",
       "      <td>False</td>\n",
       "      <td>NaN</td>\n",
       "      <td>Traffic Control Signal</td>\n",
       "    </tr>\n",
       "    <tr>\n",
       "      <th>3</th>\n",
       "      <td>2013-10-26</td>\n",
       "      <td>18:06:00</td>\n",
       "      <td>nfew park at merrill st</td>\n",
       "      <td>PARKVILLE</td>\n",
       "      <td>26.0</td>\n",
       "      <td>white</td>\n",
       "      <td>female</td>\n",
       "      <td>5ac7b58482</td>\n",
       "      <td>Hartford</td>\n",
       "      <td>vehicular</td>\n",
       "      <td>False</td>\n",
       "      <td>True</td>\n",
       "      <td>False</td>\n",
       "      <td>citation</td>\n",
       "      <td>NaN</td>\n",
       "      <td>False</td>\n",
       "      <td>False</td>\n",
       "      <td>NaN</td>\n",
       "      <td>Traffic Control Signal</td>\n",
       "    </tr>\n",
       "    <tr>\n",
       "      <th>4</th>\n",
       "      <td>2013-10-26</td>\n",
       "      <td>19:56:00</td>\n",
       "      <td>SUMMIT ST AT ZION ST</td>\n",
       "      <td>FROG HOLLOW</td>\n",
       "      <td>39.0</td>\n",
       "      <td>white</td>\n",
       "      <td>male</td>\n",
       "      <td>9623b482ee</td>\n",
       "      <td>Hartford</td>\n",
       "      <td>vehicular</td>\n",
       "      <td>False</td>\n",
       "      <td>True</td>\n",
       "      <td>False</td>\n",
       "      <td>citation</td>\n",
       "      <td>NaN</td>\n",
       "      <td>False</td>\n",
       "      <td>False</td>\n",
       "      <td>NaN</td>\n",
       "      <td>Stop Sign</td>\n",
       "    </tr>\n",
       "    <tr>\n",
       "      <th>5</th>\n",
       "      <td>2013-10-26</td>\n",
       "      <td>21:57:00</td>\n",
       "      <td>LAUREL ST AT CAPITOL AV</td>\n",
       "      <td>ASYLUM HILL</td>\n",
       "      <td>51.0</td>\n",
       "      <td>hispanic</td>\n",
       "      <td>male</td>\n",
       "      <td>9623b482ee</td>\n",
       "      <td>Hartford</td>\n",
       "      <td>vehicular</td>\n",
       "      <td>False</td>\n",
       "      <td>True</td>\n",
       "      <td>False</td>\n",
       "      <td>citation</td>\n",
       "      <td>NaN</td>\n",
       "      <td>False</td>\n",
       "      <td>False</td>\n",
       "      <td>NaN</td>\n",
       "      <td>Traffic Control Signal</td>\n",
       "    </tr>\n",
       "    <tr>\n",
       "      <th>6</th>\n",
       "      <td>2013-10-26</td>\n",
       "      <td>22:08:00</td>\n",
       "      <td>RUSS ST AT PUTNAM S T</td>\n",
       "      <td>FROG HOLLOW</td>\n",
       "      <td>34.0</td>\n",
       "      <td>white</td>\n",
       "      <td>male</td>\n",
       "      <td>9623b482ee</td>\n",
       "      <td>Hartford</td>\n",
       "      <td>vehicular</td>\n",
       "      <td>False</td>\n",
       "      <td>True</td>\n",
       "      <td>False</td>\n",
       "      <td>citation</td>\n",
       "      <td>NaN</td>\n",
       "      <td>False</td>\n",
       "      <td>False</td>\n",
       "      <td>NaN</td>\n",
       "      <td>Stop Sign</td>\n",
       "    </tr>\n",
       "    <tr>\n",
       "      <th>7</th>\n",
       "      <td>2013-10-29</td>\n",
       "      <td>13:18:00</td>\n",
       "      <td>FLATBUSH AV AT HILLSIDE</td>\n",
       "      <td>BEHIND THE ROCKS</td>\n",
       "      <td>24.0</td>\n",
       "      <td>hispanic</td>\n",
       "      <td>male</td>\n",
       "      <td>9623b482ee</td>\n",
       "      <td>Hartford</td>\n",
       "      <td>vehicular</td>\n",
       "      <td>False</td>\n",
       "      <td>True</td>\n",
       "      <td>False</td>\n",
       "      <td>citation</td>\n",
       "      <td>NaN</td>\n",
       "      <td>False</td>\n",
       "      <td>False</td>\n",
       "      <td>NaN</td>\n",
       "      <td>Moving Violation</td>\n",
       "    </tr>\n",
       "    <tr>\n",
       "      <th>8</th>\n",
       "      <td>2013-10-29</td>\n",
       "      <td>13:50:00</td>\n",
       "      <td>HUDSON ST @ JEFFERSON</td>\n",
       "      <td>SOUTH GREEN</td>\n",
       "      <td>37.0</td>\n",
       "      <td>white</td>\n",
       "      <td>female</td>\n",
       "      <td>172bfdfefb</td>\n",
       "      <td>Hartford</td>\n",
       "      <td>vehicular</td>\n",
       "      <td>False</td>\n",
       "      <td>True</td>\n",
       "      <td>False</td>\n",
       "      <td>citation</td>\n",
       "      <td>NaN</td>\n",
       "      <td>False</td>\n",
       "      <td>False</td>\n",
       "      <td>NaN</td>\n",
       "      <td>Cell Phone</td>\n",
       "    </tr>\n",
       "    <tr>\n",
       "      <th>9</th>\n",
       "      <td>2013-10-30</td>\n",
       "      <td>11:57:00</td>\n",
       "      <td>BROAD AT MADISON</td>\n",
       "      <td>FROG HOLLOW</td>\n",
       "      <td>42.0</td>\n",
       "      <td>black</td>\n",
       "      <td>female</td>\n",
       "      <td>9623b482ee</td>\n",
       "      <td>Hartford</td>\n",
       "      <td>vehicular</td>\n",
       "      <td>False</td>\n",
       "      <td>True</td>\n",
       "      <td>False</td>\n",
       "      <td>citation</td>\n",
       "      <td>NaN</td>\n",
       "      <td>False</td>\n",
       "      <td>False</td>\n",
       "      <td>NaN</td>\n",
       "      <td>Stop Sign</td>\n",
       "    </tr>\n",
       "  </tbody>\n",
       "</table>\n",
       "</div>"
      ],
      "text/plain": [
       "         date      time                        location          district  \\\n",
       "0  2013-10-13  15:21:00            LINNMORE ST AT ROGER        SOUTH WEST   \n",
       "1  2013-10-24  01:12:00  HAWTHORN STREET @ IMLAY STREET       ASYLUM HILL   \n",
       "2  2013-10-26  10:06:00                NEW PARK MIRRILL         PARKVILLE   \n",
       "3  2013-10-26  18:06:00         nfew park at merrill st         PARKVILLE   \n",
       "4  2013-10-26  19:56:00            SUMMIT ST AT ZION ST       FROG HOLLOW   \n",
       "5  2013-10-26  21:57:00         LAUREL ST AT CAPITOL AV       ASYLUM HILL   \n",
       "6  2013-10-26  22:08:00           RUSS ST AT PUTNAM S T       FROG HOLLOW   \n",
       "7  2013-10-29  13:18:00         FLATBUSH AV AT HILLSIDE  BEHIND THE ROCKS   \n",
       "8  2013-10-29  13:50:00           HUDSON ST @ JEFFERSON       SOUTH GREEN   \n",
       "9  2013-10-30  11:57:00                BROAD AT MADISON       FROG HOLLOW   \n",
       "\n",
       "   subject_age subject_race subject_sex officer_id_hash department_name  \\\n",
       "0         38.0     hispanic      female      9623b482ee        Hartford   \n",
       "1         20.0        black        male      616e63d3fb        Hartford   \n",
       "2         26.0        white      female      9623b482ee        Hartford   \n",
       "3         26.0        white      female      5ac7b58482        Hartford   \n",
       "4         39.0        white        male      9623b482ee        Hartford   \n",
       "5         51.0     hispanic        male      9623b482ee        Hartford   \n",
       "6         34.0        white        male      9623b482ee        Hartford   \n",
       "7         24.0     hispanic        male      9623b482ee        Hartford   \n",
       "8         37.0        white      female      172bfdfefb        Hartford   \n",
       "9         42.0        black      female      9623b482ee        Hartford   \n",
       "\n",
       "        type arrest_made  citation_issued  warning_issued   outcome  \\\n",
       "0  vehicular       False             True           False  citation   \n",
       "1  vehicular       False             True           False  citation   \n",
       "2  vehicular       False             True           False  citation   \n",
       "3  vehicular       False             True           False  citation   \n",
       "4  vehicular       False             True           False  citation   \n",
       "5  vehicular       False             True           False  citation   \n",
       "6  vehicular       False             True           False  citation   \n",
       "7  vehicular       False             True           False  citation   \n",
       "8  vehicular       False             True           False  citation   \n",
       "9  vehicular       False             True           False  citation   \n",
       "\n",
       "  contraband_found  search_conducted search_vehicle search_basis  \\\n",
       "0              NaN             False          False          NaN   \n",
       "1              NaN             False          False          NaN   \n",
       "2              NaN             False          False          NaN   \n",
       "3              NaN             False          False          NaN   \n",
       "4              NaN             False          False          NaN   \n",
       "5              NaN             False          False          NaN   \n",
       "6              NaN             False          False          NaN   \n",
       "7              NaN             False          False          NaN   \n",
       "8              NaN             False          False          NaN   \n",
       "9              NaN             False          False          NaN   \n",
       "\n",
       "          reason_for_stop  \n",
       "0               Stop Sign  \n",
       "1        Defective Lights  \n",
       "2  Traffic Control Signal  \n",
       "3  Traffic Control Signal  \n",
       "4               Stop Sign  \n",
       "5  Traffic Control Signal  \n",
       "6               Stop Sign  \n",
       "7        Moving Violation  \n",
       "8              Cell Phone  \n",
       "9               Stop Sign  "
      ]
     },
     "execution_count": 36,
     "metadata": {},
     "output_type": "execute_result"
    }
   ],
   "source": [
    "hf.head(10)"
   ]
  },
  {
   "cell_type": "code",
   "execution_count": 37,
   "id": "da645cd1",
   "metadata": {},
   "outputs": [],
   "source": [
    "# getting rid of the 4 missing values for date and time along with the 4 missing subject_age\n",
    "hf.dropna(subset=['date','time','subject_age'], inplace=True)"
   ]
  },
  {
   "cell_type": "code",
   "execution_count": 38,
   "id": "03fc7ab5",
   "metadata": {},
   "outputs": [
    {
     "name": "stdout",
     "output_type": "stream",
     "text": [
      "(18431, 19)\n"
     ]
    },
    {
     "data": {
      "text/plain": [
       "array([nan, False, True], dtype=object)"
      ]
     },
     "execution_count": 38,
     "metadata": {},
     "output_type": "execute_result"
    }
   ],
   "source": [
    "# display shape \n",
    "print(hf.shape)\n",
    "hf['contraband_found'].unique()"
   ]
  },
  {
   "cell_type": "code",
   "execution_count": 39,
   "id": "c17c9db0",
   "metadata": {},
   "outputs": [
    {
     "name": "stdout",
     "output_type": "stream",
     "text": [
      "<class 'pandas.core.frame.DataFrame'>\n",
      "Int64Index: 18431 entries, 0 to 18438\n",
      "Data columns (total 19 columns):\n",
      " #   Column            Non-Null Count  Dtype  \n",
      "---  ------            --------------  -----  \n",
      " 0   date              18431 non-null  object \n",
      " 1   time              18431 non-null  object \n",
      " 2   location          18431 non-null  object \n",
      " 3   district          17200 non-null  object \n",
      " 4   subject_age       18431 non-null  float64\n",
      " 5   subject_race      18431 non-null  object \n",
      " 6   subject_sex       18431 non-null  object \n",
      " 7   officer_id_hash   18431 non-null  object \n",
      " 8   department_name   18431 non-null  object \n",
      " 9   type              18431 non-null  object \n",
      " 10  arrest_made       18426 non-null  object \n",
      " 11  citation_issued   18431 non-null  bool   \n",
      " 12  warning_issued    18431 non-null  bool   \n",
      " 13  outcome           15910 non-null  object \n",
      " 14  contraband_found  5183 non-null   object \n",
      " 15  search_conducted  18431 non-null  bool   \n",
      " 16  search_vehicle    18429 non-null  object \n",
      " 17  search_basis      5182 non-null   object \n",
      " 18  reason_for_stop   18431 non-null  object \n",
      "dtypes: bool(3), float64(1), object(15)\n",
      "memory usage: 2.4+ MB\n",
      "None\n"
     ]
    }
   ],
   "source": [
    "# checking and setting types of the attributes\n",
    "print(hf.info())\n",
    "#Store the columns to convert and the appropriate type in dict\n",
    "type_cols={'arrest_made':bool,'search_vehicle':bool,'contraband_found':bool,'subject_age':int}\n",
    "hf=hf.astype(type_cols)"
   ]
  },
  {
   "cell_type": "code",
   "execution_count": 40,
   "id": "bbf7033f",
   "metadata": {},
   "outputs": [
    {
     "name": "stdout",
     "output_type": "stream",
     "text": [
      "<class 'pandas.core.frame.DataFrame'>\n",
      "Int64Index: 18431 entries, 0 to 18438\n",
      "Data columns (total 19 columns):\n",
      " #   Column            Non-Null Count  Dtype \n",
      "---  ------            --------------  ----- \n",
      " 0   date              18431 non-null  object\n",
      " 1   time              18431 non-null  object\n",
      " 2   location          18431 non-null  object\n",
      " 3   district          17200 non-null  object\n",
      " 4   subject_age       18431 non-null  int32 \n",
      " 5   subject_race      18431 non-null  object\n",
      " 6   subject_sex       18431 non-null  object\n",
      " 7   officer_id_hash   18431 non-null  object\n",
      " 8   department_name   18431 non-null  object\n",
      " 9   type              18431 non-null  object\n",
      " 10  arrest_made       18431 non-null  bool  \n",
      " 11  citation_issued   18431 non-null  bool  \n",
      " 12  warning_issued    18431 non-null  bool  \n",
      " 13  outcome           15910 non-null  object\n",
      " 14  contraband_found  18431 non-null  bool  \n",
      " 15  search_conducted  18431 non-null  bool  \n",
      " 16  search_vehicle    18431 non-null  bool  \n",
      " 17  search_basis      5182 non-null   object\n",
      " 18  reason_for_stop   18431 non-null  object\n",
      "dtypes: bool(6), int32(1), object(12)\n",
      "memory usage: 2.0+ MB\n"
     ]
    }
   ],
   "source": [
    "hf.info()"
   ]
  },
  {
   "cell_type": "code",
   "execution_count": 41,
   "id": "43905c9c",
   "metadata": {},
   "outputs": [],
   "source": [
    "#Combine date and time into one col and converting it to datetime\n",
    "combined=hf.date.str.cat(hf.time,sep=' ')\n",
    "hf['stop_datetime'] = pd.to_datetime(combined)\n",
    "#Setting the new column as index\n",
    "hf.set_index('stop_datetime', inplace=True)"
   ]
  },
  {
   "cell_type": "code",
   "execution_count": 42,
   "id": "b9f6d13e",
   "metadata": {},
   "outputs": [
    {
     "data": {
      "text/html": [
       "<div>\n",
       "<style scoped>\n",
       "    .dataframe tbody tr th:only-of-type {\n",
       "        vertical-align: middle;\n",
       "    }\n",
       "\n",
       "    .dataframe tbody tr th {\n",
       "        vertical-align: top;\n",
       "    }\n",
       "\n",
       "    .dataframe thead th {\n",
       "        text-align: right;\n",
       "    }\n",
       "</style>\n",
       "<table border=\"1\" class=\"dataframe\">\n",
       "  <thead>\n",
       "    <tr style=\"text-align: right;\">\n",
       "      <th></th>\n",
       "      <th>date</th>\n",
       "      <th>time</th>\n",
       "      <th>location</th>\n",
       "      <th>district</th>\n",
       "      <th>subject_age</th>\n",
       "      <th>subject_race</th>\n",
       "      <th>subject_sex</th>\n",
       "      <th>officer_id_hash</th>\n",
       "      <th>department_name</th>\n",
       "      <th>type</th>\n",
       "      <th>arrest_made</th>\n",
       "      <th>citation_issued</th>\n",
       "      <th>warning_issued</th>\n",
       "      <th>outcome</th>\n",
       "      <th>contraband_found</th>\n",
       "      <th>search_conducted</th>\n",
       "      <th>search_vehicle</th>\n",
       "      <th>search_basis</th>\n",
       "      <th>reason_for_stop</th>\n",
       "    </tr>\n",
       "    <tr>\n",
       "      <th>stop_datetime</th>\n",
       "      <th></th>\n",
       "      <th></th>\n",
       "      <th></th>\n",
       "      <th></th>\n",
       "      <th></th>\n",
       "      <th></th>\n",
       "      <th></th>\n",
       "      <th></th>\n",
       "      <th></th>\n",
       "      <th></th>\n",
       "      <th></th>\n",
       "      <th></th>\n",
       "      <th></th>\n",
       "      <th></th>\n",
       "      <th></th>\n",
       "      <th></th>\n",
       "      <th></th>\n",
       "      <th></th>\n",
       "      <th></th>\n",
       "    </tr>\n",
       "  </thead>\n",
       "  <tbody>\n",
       "    <tr>\n",
       "      <th>2013-10-13 15:21:00</th>\n",
       "      <td>2013-10-13</td>\n",
       "      <td>15:21:00</td>\n",
       "      <td>LINNMORE ST AT ROGER</td>\n",
       "      <td>SOUTH WEST</td>\n",
       "      <td>38</td>\n",
       "      <td>hispanic</td>\n",
       "      <td>female</td>\n",
       "      <td>9623b482ee</td>\n",
       "      <td>Hartford</td>\n",
       "      <td>vehicular</td>\n",
       "      <td>False</td>\n",
       "      <td>True</td>\n",
       "      <td>False</td>\n",
       "      <td>citation</td>\n",
       "      <td>True</td>\n",
       "      <td>False</td>\n",
       "      <td>False</td>\n",
       "      <td>NaN</td>\n",
       "      <td>Stop Sign</td>\n",
       "    </tr>\n",
       "    <tr>\n",
       "      <th>2013-10-24 01:12:00</th>\n",
       "      <td>2013-10-24</td>\n",
       "      <td>01:12:00</td>\n",
       "      <td>HAWTHORN STREET @ IMLAY STREET</td>\n",
       "      <td>ASYLUM HILL</td>\n",
       "      <td>20</td>\n",
       "      <td>black</td>\n",
       "      <td>male</td>\n",
       "      <td>616e63d3fb</td>\n",
       "      <td>Hartford</td>\n",
       "      <td>vehicular</td>\n",
       "      <td>False</td>\n",
       "      <td>True</td>\n",
       "      <td>False</td>\n",
       "      <td>citation</td>\n",
       "      <td>True</td>\n",
       "      <td>False</td>\n",
       "      <td>False</td>\n",
       "      <td>NaN</td>\n",
       "      <td>Defective Lights</td>\n",
       "    </tr>\n",
       "    <tr>\n",
       "      <th>2013-10-26 10:06:00</th>\n",
       "      <td>2013-10-26</td>\n",
       "      <td>10:06:00</td>\n",
       "      <td>NEW PARK MIRRILL</td>\n",
       "      <td>PARKVILLE</td>\n",
       "      <td>26</td>\n",
       "      <td>white</td>\n",
       "      <td>female</td>\n",
       "      <td>9623b482ee</td>\n",
       "      <td>Hartford</td>\n",
       "      <td>vehicular</td>\n",
       "      <td>False</td>\n",
       "      <td>True</td>\n",
       "      <td>False</td>\n",
       "      <td>citation</td>\n",
       "      <td>True</td>\n",
       "      <td>False</td>\n",
       "      <td>False</td>\n",
       "      <td>NaN</td>\n",
       "      <td>Traffic Control Signal</td>\n",
       "    </tr>\n",
       "    <tr>\n",
       "      <th>2013-10-26 18:06:00</th>\n",
       "      <td>2013-10-26</td>\n",
       "      <td>18:06:00</td>\n",
       "      <td>nfew park at merrill st</td>\n",
       "      <td>PARKVILLE</td>\n",
       "      <td>26</td>\n",
       "      <td>white</td>\n",
       "      <td>female</td>\n",
       "      <td>5ac7b58482</td>\n",
       "      <td>Hartford</td>\n",
       "      <td>vehicular</td>\n",
       "      <td>False</td>\n",
       "      <td>True</td>\n",
       "      <td>False</td>\n",
       "      <td>citation</td>\n",
       "      <td>True</td>\n",
       "      <td>False</td>\n",
       "      <td>False</td>\n",
       "      <td>NaN</td>\n",
       "      <td>Traffic Control Signal</td>\n",
       "    </tr>\n",
       "    <tr>\n",
       "      <th>2013-10-26 19:56:00</th>\n",
       "      <td>2013-10-26</td>\n",
       "      <td>19:56:00</td>\n",
       "      <td>SUMMIT ST AT ZION ST</td>\n",
       "      <td>FROG HOLLOW</td>\n",
       "      <td>39</td>\n",
       "      <td>white</td>\n",
       "      <td>male</td>\n",
       "      <td>9623b482ee</td>\n",
       "      <td>Hartford</td>\n",
       "      <td>vehicular</td>\n",
       "      <td>False</td>\n",
       "      <td>True</td>\n",
       "      <td>False</td>\n",
       "      <td>citation</td>\n",
       "      <td>True</td>\n",
       "      <td>False</td>\n",
       "      <td>False</td>\n",
       "      <td>NaN</td>\n",
       "      <td>Stop Sign</td>\n",
       "    </tr>\n",
       "  </tbody>\n",
       "</table>\n",
       "</div>"
      ],
      "text/plain": [
       "                           date      time                        location  \\\n",
       "stop_datetime                                                               \n",
       "2013-10-13 15:21:00  2013-10-13  15:21:00            LINNMORE ST AT ROGER   \n",
       "2013-10-24 01:12:00  2013-10-24  01:12:00  HAWTHORN STREET @ IMLAY STREET   \n",
       "2013-10-26 10:06:00  2013-10-26  10:06:00                NEW PARK MIRRILL   \n",
       "2013-10-26 18:06:00  2013-10-26  18:06:00         nfew park at merrill st   \n",
       "2013-10-26 19:56:00  2013-10-26  19:56:00            SUMMIT ST AT ZION ST   \n",
       "\n",
       "                        district  subject_age subject_race subject_sex  \\\n",
       "stop_datetime                                                            \n",
       "2013-10-13 15:21:00   SOUTH WEST           38     hispanic      female   \n",
       "2013-10-24 01:12:00  ASYLUM HILL           20        black        male   \n",
       "2013-10-26 10:06:00    PARKVILLE           26        white      female   \n",
       "2013-10-26 18:06:00    PARKVILLE           26        white      female   \n",
       "2013-10-26 19:56:00  FROG HOLLOW           39        white        male   \n",
       "\n",
       "                    officer_id_hash department_name       type  arrest_made  \\\n",
       "stop_datetime                                                                 \n",
       "2013-10-13 15:21:00      9623b482ee        Hartford  vehicular        False   \n",
       "2013-10-24 01:12:00      616e63d3fb        Hartford  vehicular        False   \n",
       "2013-10-26 10:06:00      9623b482ee        Hartford  vehicular        False   \n",
       "2013-10-26 18:06:00      5ac7b58482        Hartford  vehicular        False   \n",
       "2013-10-26 19:56:00      9623b482ee        Hartford  vehicular        False   \n",
       "\n",
       "                     citation_issued  warning_issued   outcome  \\\n",
       "stop_datetime                                                    \n",
       "2013-10-13 15:21:00             True           False  citation   \n",
       "2013-10-24 01:12:00             True           False  citation   \n",
       "2013-10-26 10:06:00             True           False  citation   \n",
       "2013-10-26 18:06:00             True           False  citation   \n",
       "2013-10-26 19:56:00             True           False  citation   \n",
       "\n",
       "                     contraband_found  search_conducted  search_vehicle  \\\n",
       "stop_datetime                                                             \n",
       "2013-10-13 15:21:00              True             False           False   \n",
       "2013-10-24 01:12:00              True             False           False   \n",
       "2013-10-26 10:06:00              True             False           False   \n",
       "2013-10-26 18:06:00              True             False           False   \n",
       "2013-10-26 19:56:00              True             False           False   \n",
       "\n",
       "                    search_basis         reason_for_stop  \n",
       "stop_datetime                                             \n",
       "2013-10-13 15:21:00          NaN               Stop Sign  \n",
       "2013-10-24 01:12:00          NaN        Defective Lights  \n",
       "2013-10-26 10:06:00          NaN  Traffic Control Signal  \n",
       "2013-10-26 18:06:00          NaN  Traffic Control Signal  \n",
       "2013-10-26 19:56:00          NaN               Stop Sign  "
      ]
     },
     "execution_count": 42,
     "metadata": {},
     "output_type": "execute_result"
    }
   ],
   "source": [
    "hf.head()"
   ]
  },
  {
   "cell_type": "markdown",
   "id": "0f982aff",
   "metadata": {},
   "source": [
    "## 2- Exploring relationships \n"
   ]
  },
  {
   "cell_type": "code",
   "execution_count": 43,
   "id": "35bb1217",
   "metadata": {},
   "outputs": [
    {
     "data": {
      "text/plain": [
       "Cell Phone                              3768\n",
       "Speed Related                           3533\n",
       "Other                                   2018\n",
       "Stop Sign                               1963\n",
       "Traffic Control Signal                  1895\n",
       "Moving Violation                         994\n",
       "Display of Plates                        861\n",
       "Registration                             739\n",
       "Suspended License                        660\n",
       "Defective Lights                         558\n",
       "Seatbelt                                 552\n",
       "Window Tint                              518\n",
       "Administrative Offense                   151\n",
       "STC Violation                            121\n",
       "Equipment Violation                       68\n",
       "Unlicensed Operation                      23\n",
       "Other|Moving Violation                     2\n",
       "Traffic Control Signal|Cell Phone          1\n",
       "Other|Display of Plates                    1\n",
       "Registration|Suspended License             1\n",
       "Traffic Control Signal|Speed Related       1\n",
       "Display of Plates|Window Tint              1\n",
       "Other|Stop Sign                            1\n",
       "Administrative Offense|Cell Phone          1\n",
       "Name: reason_for_stop, dtype: int64"
      ]
     },
     "execution_count": 43,
     "metadata": {},
     "output_type": "execute_result"
    }
   ],
   "source": [
    "hf['reason_for_stop'].value_counts()"
   ]
  },
  {
   "cell_type": "code",
   "execution_count": 44,
   "id": "66a31622",
   "metadata": {},
   "outputs": [
    {
     "data": {
      "text/plain": [
       "citation    0.738655\n",
       "warning     0.216593\n",
       "arrest      0.044752\n",
       "Name: outcome, dtype: float64"
      ]
     },
     "execution_count": 44,
     "metadata": {},
     "output_type": "execute_result"
    }
   ],
   "source": [
    "hf['outcome'].value_counts(normalize=True)"
   ]
  },
  {
   "cell_type": "markdown",
   "id": "270f0b6d",
   "metadata": {},
   "source": [
    "### Comparing violations by gender"
   ]
  },
  {
   "cell_type": "code",
   "execution_count": 45,
   "id": "20931150",
   "metadata": {
    "scrolled": true
   },
   "outputs": [
    {
     "name": "stdout",
     "output_type": "stream",
     "text": [
      "Cell Phone                           0.249073\n",
      "Speed Related                        0.221255\n",
      "Stop Sign                            0.100571\n",
      "Traffic Control Signal               0.094864\n",
      "Other                                0.092582\n",
      "Suspended License                    0.043937\n",
      "Registration                         0.042653\n",
      "Moving Violation                     0.040514\n",
      "Display of Plates                    0.029387\n",
      "Defective Lights                     0.027389\n",
      "Window Tint                          0.022111\n",
      "Seatbelt                             0.019544\n",
      "STC Violation                        0.007418\n",
      "Administrative Offense               0.005849\n",
      "Equipment Violation                  0.001427\n",
      "Unlicensed Operation                 0.000999\n",
      "Traffic Control Signal|Cell Phone    0.000143\n",
      "Registration|Suspended License       0.000143\n",
      "Administrative Offense|Cell Phone    0.000143\n",
      "Name: reason_for_stop, dtype: float64\n",
      "Cell Phone                              0.177042\n",
      "Speed Related                           0.173540\n",
      "Other                                   0.119867\n",
      "Stop Sign                               0.110148\n",
      "Traffic Control Signal                  0.107696\n",
      "Moving Violation                        0.062166\n",
      "Display of Plates                       0.057350\n",
      "Registration                            0.038526\n",
      "Seatbelt                                0.036337\n",
      "Defective Lights                        0.032046\n",
      "Window Tint                             0.031784\n",
      "Suspended License                       0.030820\n",
      "Administrative Offense                  0.009631\n",
      "STC Violation                           0.006042\n",
      "Equipment Violation                     0.005078\n",
      "Unlicensed Operation                    0.001401\n",
      "Other|Moving Violation                  0.000175\n",
      "Other|Stop Sign                         0.000088\n",
      "Other|Display of Plates                 0.000088\n",
      "Traffic Control Signal|Speed Related    0.000088\n",
      "Display of Plates|Window Tint           0.000088\n",
      "Name: reason_for_stop, dtype: float64\n"
     ]
    }
   ],
   "source": [
    "# Create a DataFrame of female drivers\n",
    "female = hf[hf.subject_sex=='female']\n",
    "\n",
    "# Create a DataFrame of male drivers\n",
    "male = hf[hf.subject_sex=='male']\n",
    "\n",
    "# Compute the violations by female drivers (as proportions)\n",
    "print(female['reason_for_stop'].value_counts(normalize=True))\n",
    "\n",
    "# Compute the violations by male drivers (as proportions)\n",
    "print(male['reason_for_stop'].value_counts(normalize=True))"
   ]
  },
  {
   "cell_type": "code",
   "execution_count": 46,
   "id": "9873b63c",
   "metadata": {},
   "outputs": [
    {
     "name": "stdout",
     "output_type": "stream",
     "text": [
      "0.281373772448592\n"
     ]
    },
    {
     "data": {
      "text/plain": [
       "subject_sex  outcome \n",
       "female       arrest      0.688119\n",
       "             citation    0.268369\n",
       "             warning     0.229079\n",
       "male         arrest      0.584314\n",
       "             citation    0.253389\n",
       "             warning     0.248343\n",
       "Name: search_conducted, dtype: float64"
      ]
     },
     "execution_count": 46,
     "metadata": {},
     "output_type": "execute_result"
    }
   ],
   "source": [
    "# Calculate the search rate by taking the mean\n",
    "print(hf.search_conducted.mean())\n",
    "\n",
    "hf.groupby(['subject_sex','outcome']).search_conducted.mean()"
   ]
  },
  {
   "cell_type": "code",
   "execution_count": 47,
   "id": "a1143511",
   "metadata": {},
   "outputs": [
    {
     "data": {
      "text/plain": [
       "3770"
      ]
     },
     "execution_count": 47,
     "metadata": {},
     "output_type": "execute_result"
    }
   ],
   "source": [
    "hf['cell_phone'] = hf.reason_for_stop.str.contains('Cell Phone', na=False)\n",
    "hf.cell_phone.sum()"
   ]
  },
  {
   "cell_type": "code",
   "execution_count": 48,
   "id": "05bb2857",
   "metadata": {},
   "outputs": [
    {
     "name": "stdout",
     "output_type": "stream",
     "text": [
      "0.1710374084072503\n",
      "subject_sex\n",
      "female    0.211664\n",
      "male      0.145762\n",
      "Name: cell_phone, dtype: float64\n"
     ]
    }
   ],
   "source": [
    "# Create a DataFrame of stops in which a search was conducted\n",
    "searched = hf[hf.search_conducted == True]\n",
    "\n",
    "# Calculate the overall cell phone rate by taking the mean of 'cell_phone'\n",
    "print(searched.cell_phone.mean())\n",
    "\n",
    "# Calculate the cell phone rate for each gender\n",
    "print(searched.groupby('subject_sex').cell_phone.mean())"
   ]
  },
  {
   "cell_type": "code",
   "execution_count": 49,
   "id": "2e6293a2",
   "metadata": {},
   "outputs": [
    {
     "name": "stdout",
     "output_type": "stream",
     "text": [
      "0.038901850143779504\n",
      "stop_datetime\n",
      "0     0.055215\n",
      "1     0.059524\n",
      "2     0.057692\n",
      "3     0.076923\n",
      "4     0.043478\n",
      "5     0.071429\n",
      "6     0.000000\n",
      "7     0.004751\n",
      "8     0.013194\n",
      "9     0.017699\n",
      "10    0.033689\n",
      "11    0.037096\n",
      "12    0.043529\n",
      "13    0.036558\n",
      "14    0.051308\n",
      "15    0.032184\n",
      "16    0.031048\n",
      "17    0.037555\n",
      "18    0.061286\n",
      "19    0.075342\n",
      "20    0.094926\n",
      "21    0.065728\n",
      "22    0.064639\n",
      "23    0.072626\n",
      "Name: arrest_made, dtype: float64\n"
     ]
    }
   ],
   "source": [
    "# Calculating the overall arrest rate\n",
    "print(hf.arrest_made.mean())\n",
    "\n",
    "# Calculating the hourly arrest rate\n",
    "print(hf.groupby(hf.index.hour).arrest_made.mean())\n",
    "\n",
    "# Saving the hourly arrest rate to visualise it \n",
    "hourly_arrest_rate = hf.groupby(hf.index.hour).arrest_made.mean()"
   ]
  },
  {
   "cell_type": "code",
   "execution_count": 50,
   "id": "068f000c",
   "metadata": {},
   "outputs": [
    {
     "data": {
      "image/png": "[encoded data removed]",
      "text/plain": [
       "<Figure size 432x288 with 1 Axes>"
      ]
     },
     "metadata": {
      "needs_background": "light"
     },
     "output_type": "display_data"
    }
   ],
   "source": [
    "# Creating a line plot of 'hourly_arrest_rate'\n",
    "hourly_arrest_rate.plot()\n",
    "\n",
    "# Adding the xlabel, ylabel, and title\n",
    "plt.xlabel('Hour')\n",
    "plt.ylabel('Arrest Rate')\n",
    "plt.title('Arrest Rate by Time of Day')\n",
    "\n",
    "# Displaying the plot\n",
    "plt.show()"
   ]
  },
  {
   "cell_type": "markdown",
   "id": "85668337",
   "metadata": {},
   "source": [
    "The arrest rate has a significant spike overnight, and then dips in the early morning hours."
   ]
  },
  {
   "cell_type": "code",
   "execution_count": 51,
   "id": "d9a21400",
   "metadata": {},
   "outputs": [
    {
     "data": {
      "text/plain": [
       "True     13329\n",
       "False     5102\n",
       "Name: contraband_found, dtype: int64"
      ]
     },
     "execution_count": 51,
     "metadata": {},
     "output_type": "execute_result"
    }
   ],
   "source": [
    "hf.contraband_found.value_counts()"
   ]
  },
  {
   "cell_type": "code",
   "execution_count": 52,
   "id": "b830ca1b",
   "metadata": {},
   "outputs": [
    {
     "data": {
      "text/plain": [
       "Text(0.5, 1.0, 'Contraband Rate by Time of Day')"
      ]
     },
     "execution_count": 52,
     "metadata": {},
     "output_type": "execute_result"
    },
    {
     "data": {
      "image/png": "[encoded data removed]",
      "text/plain": [
       "<Figure size 432x288 with 1 Axes>"
      ]
     },
     "metadata": {
      "needs_background": "light"
     },
     "output_type": "display_data"
    }
   ],
   "source": [
    "contraband=hf.groupby(hf.index.hour).contraband_found.mean()\n",
    "\n",
    "# Creating a line plot of 'contraband'\n",
    "contraband.plot()\n",
    "\n",
    "# Setting title,xlabel and ylabel\n",
    "plt.xlabel('Hour')\n",
    "plt.ylabel('Contraband')\n",
    "plt.title('Contraband Rate by Time of Day')"
   ]
  },
  {
   "cell_type": "code",
   "execution_count": 53,
   "id": "decf32d6",
   "metadata": {},
   "outputs": [
    {
     "data": {
      "text/plain": [
       "<AxesSubplot:xlabel='subject_race', ylabel='contraband_found'>"
      ]
     },
     "execution_count": 53,
     "metadata": {},
     "output_type": "execute_result"
    },
    {
     "data": {
      "image/png": "[encoded data removed]",
      "text/plain": [
       "<Figure size 432x288 with 1 Axes>"
      ]
     },
     "metadata": {
      "needs_background": "light"
     },
     "output_type": "display_data"
    }
   ],
   "source": [
    "plt.xticks(rotation=45)\n",
    "sns.barplot(x='subject_race',y='contraband_found',data=hf,hue='subject_sex')"
   ]
  },
  {
   "cell_type": "code",
   "execution_count": 54,
   "id": "d84da92e",
   "metadata": {},
   "outputs": [
    {
     "data": {
      "text/plain": [
       "<AxesSubplot:xlabel='AgeRange', ylabel='contraband_found'>"
      ]
     },
     "execution_count": 54,
     "metadata": {},
     "output_type": "execute_result"
    },
    {
     "data": {
      "image/png": "[encoded data removed]",
      "text/plain": [
       "<Figure size 432x288 with 1 Axes>"
      ]
     },
     "metadata": {
      "needs_background": "light"
     },
     "output_type": "display_data"
    }
   ],
   "source": [
    "bins = [20,30,40,50,60,np.inf]\n",
    "names = ['<20','20-30','30-40','40-50','60+']\n",
    "\n",
    "hf['AgeRange']=pd.cut(hf['subject_age'],bins,labels=names)\n",
    "sns.barplot(x='AgeRange',y='contraband_found',data=hf,hue='subject_sex')"
   ]
  },
  {
   "cell_type": "code",
   "execution_count": 55,
   "id": "d13cfeda",
   "metadata": {},
   "outputs": [
    {
     "data": {
      "text/plain": [
       "<AxesSubplot:xlabel='district'>"
      ]
     },
     "execution_count": 55,
     "metadata": {},
     "output_type": "execute_result"
    },
    {
     "data": {
      "image/png": "[encoded data removed]",
      "text/plain": [
       "<Figure size 432x288 with 1 Axes>"
      ]
     },
     "metadata": {
      "needs_background": "light"
     },
     "output_type": "display_data"
    }
   ],
   "source": [
    "all_zones = pd.crosstab(hf.district,hf.outcome)\n",
    "all_zones.plot(kind='bar')"
   ]
  },
  {
   "cell_type": "code",
   "execution_count": 56,
   "id": "32c854c0",
   "metadata": {},
   "outputs": [
    {
     "data": {
      "text/html": [
       "<div>\n",
       "<style scoped>\n",
       "    .dataframe tbody tr th:only-of-type {\n",
       "        vertical-align: middle;\n",
       "    }\n",
       "\n",
       "    .dataframe tbody tr th {\n",
       "        vertical-align: top;\n",
       "    }\n",
       "\n",
       "    .dataframe thead th {\n",
       "        text-align: right;\n",
       "    }\n",
       "</style>\n",
       "<table border=\"1\" class=\"dataframe\">\n",
       "  <thead>\n",
       "    <tr style=\"text-align: right;\">\n",
       "      <th></th>\n",
       "      <th>STATION</th>\n",
       "      <th>NAME</th>\n",
       "      <th>DATE</th>\n",
       "      <th>AWND</th>\n",
       "      <th>PGTM</th>\n",
       "      <th>TAVG</th>\n",
       "      <th>TMAX</th>\n",
       "      <th>TMIN</th>\n",
       "      <th>WDF2</th>\n",
       "      <th>WDF5</th>\n",
       "      <th>WSF2</th>\n",
       "      <th>WSF5</th>\n",
       "      <th>WT01</th>\n",
       "      <th>WT02</th>\n",
       "      <th>WT03</th>\n",
       "      <th>WT04</th>\n",
       "      <th>WT05</th>\n",
       "      <th>WT06</th>\n",
       "      <th>WT08</th>\n",
       "      <th>WT09</th>\n",
       "    </tr>\n",
       "  </thead>\n",
       "  <tbody>\n",
       "    <tr>\n",
       "      <th>0</th>\n",
       "      <td>USW00014740</td>\n",
       "      <td>HARTFORD BRADLEY INTERNATIONAL AIRPORT, CT US</td>\n",
       "      <td>2013-10-01</td>\n",
       "      <td>1.0</td>\n",
       "      <td>NaN</td>\n",
       "      <td>14.9</td>\n",
       "      <td>26.1</td>\n",
       "      <td>6.1</td>\n",
       "      <td>300</td>\n",
       "      <td>300.0</td>\n",
       "      <td>5.8</td>\n",
       "      <td>6.7</td>\n",
       "      <td>1.0</td>\n",
       "      <td>NaN</td>\n",
       "      <td>NaN</td>\n",
       "      <td>NaN</td>\n",
       "      <td>NaN</td>\n",
       "      <td>NaN</td>\n",
       "      <td>NaN</td>\n",
       "      <td>NaN</td>\n",
       "    </tr>\n",
       "    <tr>\n",
       "      <th>1</th>\n",
       "      <td>USW00014740</td>\n",
       "      <td>HARTFORD BRADLEY INTERNATIONAL AIRPORT, CT US</td>\n",
       "      <td>2013-10-02</td>\n",
       "      <td>2.4</td>\n",
       "      <td>NaN</td>\n",
       "      <td>19.0</td>\n",
       "      <td>27.2</td>\n",
       "      <td>11.1</td>\n",
       "      <td>290</td>\n",
       "      <td>290.0</td>\n",
       "      <td>7.6</td>\n",
       "      <td>10.3</td>\n",
       "      <td>1.0</td>\n",
       "      <td>NaN</td>\n",
       "      <td>NaN</td>\n",
       "      <td>NaN</td>\n",
       "      <td>NaN</td>\n",
       "      <td>NaN</td>\n",
       "      <td>NaN</td>\n",
       "      <td>NaN</td>\n",
       "    </tr>\n",
       "    <tr>\n",
       "      <th>2</th>\n",
       "      <td>USW00014740</td>\n",
       "      <td>HARTFORD BRADLEY INTERNATIONAL AIRPORT, CT US</td>\n",
       "      <td>2013-10-03</td>\n",
       "      <td>1.7</td>\n",
       "      <td>NaN</td>\n",
       "      <td>17.7</td>\n",
       "      <td>25.6</td>\n",
       "      <td>10.0</td>\n",
       "      <td>270</td>\n",
       "      <td>260.0</td>\n",
       "      <td>5.8</td>\n",
       "      <td>6.7</td>\n",
       "      <td>NaN</td>\n",
       "      <td>NaN</td>\n",
       "      <td>NaN</td>\n",
       "      <td>NaN</td>\n",
       "      <td>NaN</td>\n",
       "      <td>NaN</td>\n",
       "      <td>NaN</td>\n",
       "      <td>NaN</td>\n",
       "    </tr>\n",
       "    <tr>\n",
       "      <th>3</th>\n",
       "      <td>USW00014740</td>\n",
       "      <td>HARTFORD BRADLEY INTERNATIONAL AIRPORT, CT US</td>\n",
       "      <td>2013-10-04</td>\n",
       "      <td>1.5</td>\n",
       "      <td>NaN</td>\n",
       "      <td>14.6</td>\n",
       "      <td>20.0</td>\n",
       "      <td>10.0</td>\n",
       "      <td>10</td>\n",
       "      <td>10.0</td>\n",
       "      <td>5.4</td>\n",
       "      <td>6.3</td>\n",
       "      <td>1.0</td>\n",
       "      <td>NaN</td>\n",
       "      <td>NaN</td>\n",
       "      <td>NaN</td>\n",
       "      <td>NaN</td>\n",
       "      <td>NaN</td>\n",
       "      <td>NaN</td>\n",
       "      <td>NaN</td>\n",
       "    </tr>\n",
       "    <tr>\n",
       "      <th>4</th>\n",
       "      <td>USW00014740</td>\n",
       "      <td>HARTFORD BRADLEY INTERNATIONAL AIRPORT, CT US</td>\n",
       "      <td>2013-10-05</td>\n",
       "      <td>0.9</td>\n",
       "      <td>NaN</td>\n",
       "      <td>17.3</td>\n",
       "      <td>22.8</td>\n",
       "      <td>14.4</td>\n",
       "      <td>90</td>\n",
       "      <td>120.0</td>\n",
       "      <td>3.1</td>\n",
       "      <td>4.0</td>\n",
       "      <td>1.0</td>\n",
       "      <td>NaN</td>\n",
       "      <td>NaN</td>\n",
       "      <td>NaN</td>\n",
       "      <td>NaN</td>\n",
       "      <td>NaN</td>\n",
       "      <td>NaN</td>\n",
       "      <td>NaN</td>\n",
       "    </tr>\n",
       "  </tbody>\n",
       "</table>\n",
       "</div>"
      ],
      "text/plain": [
       "       STATION                                           NAME        DATE  \\\n",
       "0  USW00014740  HARTFORD BRADLEY INTERNATIONAL AIRPORT, CT US  2013-10-01   \n",
       "1  USW00014740  HARTFORD BRADLEY INTERNATIONAL AIRPORT, CT US  2013-10-02   \n",
       "2  USW00014740  HARTFORD BRADLEY INTERNATIONAL AIRPORT, CT US  2013-10-03   \n",
       "3  USW00014740  HARTFORD BRADLEY INTERNATIONAL AIRPORT, CT US  2013-10-04   \n",
       "4  USW00014740  HARTFORD BRADLEY INTERNATIONAL AIRPORT, CT US  2013-10-05   \n",
       "\n",
       "   AWND  PGTM  TAVG  TMAX  TMIN  WDF2   WDF5  WSF2  WSF5  WT01  WT02  WT03  \\\n",
       "0   1.0   NaN  14.9  26.1   6.1   300  300.0   5.8   6.7   1.0   NaN   NaN   \n",
       "1   2.4   NaN  19.0  27.2  11.1   290  290.0   7.6  10.3   1.0   NaN   NaN   \n",
       "2   1.7   NaN  17.7  25.6  10.0   270  260.0   5.8   6.7   NaN   NaN   NaN   \n",
       "3   1.5   NaN  14.6  20.0  10.0    10   10.0   5.4   6.3   1.0   NaN   NaN   \n",
       "4   0.9   NaN  17.3  22.8  14.4    90  120.0   3.1   4.0   1.0   NaN   NaN   \n",
       "\n",
       "   WT04  WT05  WT06  WT08  WT09  \n",
       "0   NaN   NaN   NaN   NaN   NaN  \n",
       "1   NaN   NaN   NaN   NaN   NaN  \n",
       "2   NaN   NaN   NaN   NaN   NaN  \n",
       "3   NaN   NaN   NaN   NaN   NaN  \n",
       "4   NaN   NaN   NaN   NaN   NaN  "
      ]
     },
     "execution_count": 56,
     "metadata": {},
     "output_type": "execute_result"
    }
   ],
   "source": [
    "# Data values are downloaded in metric system\n",
    "weather=pd.read_csv('weather.csv')\n",
    "weather.head()"
   ]
  },
  {
   "cell_type": "markdown",
   "id": "25f8d5b4",
   "metadata": {},
   "source": [
    "WSF2 - Fastest 2-minute wind speed\n",
    "\n",
    "\n",
    "WSF5 - Fastest 5-second wind speed\n",
    "\n",
    "WT03 - Thunder\n",
    "\n",
    "WT04 - Ice pellets, sleet, snow pellets, or small hail\"\n",
    "\n",
    "WT05 - Hail (may include small hail)\n",
    "\n",
    "WT06 - Glaze or rime\n",
    "\n",
    "WT08 - Smoke or haze\n",
    "\n",
    "WT09 - Blowing or drifting snow\n",
    "\n",
    "WDF2 - Direction of fastest 2-minute wind\n",
    "\n",
    "AWND - Average wind speed\n",
    "\n",
    "WDF5 - Direction of fastest 5-second wind\n",
    "\n",
    "PGTM - Peak gust time\n",
    "\n",
    "WT01 - Fog, ice fog, or freezing fog (may include heavy fog)\n",
    "\n",
    "TMAX - Maximum temperature\n",
    "\n",
    "WT02 - Heavy fog or heaving freezing fog (not always distinguished from fog)\n",
    "\n",
    "TAVG - Average Temperature.\n",
    "\n",
    "TMIN - Minimum temperature\n"
   ]
  },
  {
   "cell_type": "markdown",
   "id": "9d1b23b6",
   "metadata": {},
   "source": [
    "## Validating the data "
   ]
  },
  {
   "cell_type": "code",
   "execution_count": 58,
   "id": "a62681ca",
   "metadata": {},
   "outputs": [
    {
     "name": "stdout",
     "output_type": "stream",
     "text": [
      "              TMIN         TAVG         TMAX\n",
      "count  1097.000000  1097.000000  1097.000000\n",
      "mean      4.839745    10.763537    16.617867\n",
      "std      10.260983    10.510330    11.446295\n",
      "min     -24.300000   -18.900000   -12.100000\n",
      "25%      -2.100000     2.600000     7.200000\n",
      "50%       5.600000    11.700000    17.800000\n",
      "75%      13.300000    20.200000    26.700000\n",
      "max      22.800000    28.600000    37.200000\n"
     ]
    },
    {
     "data": {
      "image/png": "[encoded data removed]",
      "text/plain": [
       "<Figure size 432x288 with 1 Axes>"
      ]
     },
     "metadata": {
      "needs_background": "light"
     },
     "output_type": "display_data"
    }
   ],
   "source": [
    "# Describing the temperature columns\n",
    "print(weather[['TMIN', 'TAVG', 'TMAX']].describe())\n",
    "\n",
    "# Creating a box plot of the temperature columns\n",
    "weather[['TMIN', 'TAVG', 'TMAX']].plot(kind='box')\n",
    "\n",
    "# Display the plot\n",
    "plt.show()"
   ]
  },
  {
   "cell_type": "markdown",
   "id": "04cff1af",
   "metadata": {},
   "source": [
    "The temperature data looks good so far: the TAVG values are in between TMIN and TMAX, and the measurements and ranges seem reasonable."
   ]
  },
  {
   "cell_type": "code",
   "execution_count": 59,
   "id": "ce81fddd",
   "metadata": {},
   "outputs": [
    {
     "name": "stdout",
     "output_type": "stream",
     "text": [
      "count    1097.000000\n",
      "mean       11.778122\n",
      "std         4.232714\n",
      "min         1.000000\n",
      "25%         8.900000\n",
      "50%        12.100000\n",
      "75%        14.500000\n",
      "max        25.000000\n",
      "Name: TDIFF, dtype: float64\n"
     ]
    },
    {
     "data": {
      "text/plain": [
       "<AxesSubplot:ylabel='Frequency'>"
      ]
     },
     "execution_count": 59,
     "metadata": {},
     "output_type": "execute_result"
    },
    {
     "data": {
      "image/png": "[encoded data removed]",
      "text/plain": [
       "<Figure size 432x288 with 1 Axes>"
      ]
     },
     "metadata": {
      "needs_background": "light"
     },
     "output_type": "display_data"
    }
   ],
   "source": [
    "# Creating a 'TDIFF' column that represents temperature difference\n",
    "weather['TDIFF']=weather['TMAX']-weather['TMIN']\n",
    "\n",
    "# Description of  the 'TDIFF' column\n",
    "print(weather['TDIFF'].describe())\n",
    "\n",
    "# Ploting a histogram with 20 bins to visualize 'TDIFF'\n",
    "weather.TDIFF.plot(kind='hist',bins=20)"
   ]
  },
  {
   "cell_type": "markdown",
   "id": "2672df55",
   "metadata": {},
   "source": [
    "The TDIFF column has no negative values and its distribution is approximately normal, both of which are signs that the data is trustworthy.\n"
   ]
  },
  {
   "cell_type": "code",
   "execution_count": 65,
   "id": "70c3e488",
   "metadata": {},
   "outputs": [
    {
     "data": {
      "image/png": "[encoded data removed]",
      "text/plain": [
       "<Figure size 432x288 with 1 Axes>"
      ]
     },
     "metadata": {
      "needs_background": "light"
     },
     "output_type": "display_data"
    }
   ],
   "source": [
    "WT = weather.loc[:,'WT01':'WT09']\n",
    "\n",
    "# Calculate the sum of each row in 'WT'\n",
    "weather['bad_conditions'] = WT.sum(axis=1)\n",
    "\n",
    "# Replace missing values in 'bad_conditions' with '0'\n",
    "weather['bad_conditions'] = weather.bad_conditions.fillna(0).astype('int')\n",
    "\n",
    "# Create a histogram to visualize 'bad_conditions'\n",
    "weather['bad_conditions'].plot(kind='hist')\n",
    "\n",
    "# Display the plot\n",
    "plt.show()"
   ]
  },
  {
   "cell_type": "markdown",
   "id": "af717e94",
   "metadata": {},
   "source": [
    "It looks like many days didn't have any bad weather conditions, and only a small portion of days had more than one bad weather conditions.\n"
   ]
  },
  {
   "cell_type": "code",
   "execution_count": 75,
   "id": "dda9ec77",
   "metadata": {},
   "outputs": [
    {
     "name": "stdout",
     "output_type": "stream",
     "text": [
      "0    683\n",
      "1    281\n",
      "2    101\n",
      "3     32\n",
      "Name: bad_conditions, dtype: int64\n",
      "good    683\n",
      "bad     414\n",
      "Name: rating, dtype: int64\n"
     ]
    }
   ],
   "source": [
    "# Count the unique values in 'bad_conditions' and sort the index\n",
    "print(weather.bad_conditions.value_counts().sort_index())\n",
    "\n",
    "# Create a dictionary that maps integers to strings\n",
    "mapping = {0:'good', 1:'bad', 2:'bad', 3:'bad'}\n",
    "\n",
    "# Convert the 'bad_conditions' integers to strings using the 'mapping'\n",
    "weather['rating'] = weather.bad_conditions.map(mapping)\n",
    "\n",
    "# Count the unique values in 'rating'\n",
    "print(weather.rating.value_counts())"
   ]
  },
  {
   "cell_type": "code",
   "execution_count": 76,
   "id": "d67dbb1f",
   "metadata": {},
   "outputs": [
    {
     "name": "stdout",
     "output_type": "stream",
     "text": [
      "0     bad\n",
      "1     bad\n",
      "2    good\n",
      "3     bad\n",
      "4     bad\n",
      "Name: rating, dtype: category\n",
      "Categories (2, object): ['good' < 'bad']\n"
     ]
    }
   ],
   "source": [
    "cats = pd.CategoricalDtype(['good','bad'], ordered=True)\n",
    "\n",
    "# Change the data type of 'rating' to category\n",
    "weather['rating'] = weather.rating.astype(cats)\n",
    "\n",
    "# Examine the head of 'rating'\n",
    "print(weather.rating.head())"
   ]
  },
  {
   "cell_type": "code",
   "execution_count": 77,
   "id": "38a4dafb",
   "metadata": {},
   "outputs": [
    {
     "name": "stdout",
     "output_type": "stream",
     "text": [
      "         DATE rating\n",
      "0  2013-10-01    bad\n",
      "1  2013-10-02    bad\n",
      "2  2013-10-03   good\n",
      "3  2013-10-04    bad\n",
      "4  2013-10-05    bad\n"
     ]
    }
   ],
   "source": [
    "# Reset the index of 'hf'\n",
    "hf.reset_index(inplace=True)\n",
    "\n",
    "# Create a DataFrame from the 'DATE' and 'rating' columns\n",
    "weather_rating=weather[['DATE','rating']]\n",
    "\n",
    "# Examine the head of 'weather_rating'\n",
    "print(weather_rating.head())"
   ]
  },
  {
   "cell_type": "code",
   "execution_count": 78,
   "id": "7d8c65d5",
   "metadata": {},
   "outputs": [
    {
     "name": "stdout",
     "output_type": "stream",
     "text": [
      "(18431, 26)\n"
     ]
    }
   ],
   "source": [
    "hf_weather = pd.merge(left=hf, right=weather_rating, left_on='date', right_on='DATE', how='left')\n",
    "\n",
    "# Examine the shape of 'hf_weather'\n",
    "print(hf_weather.shape)\n",
    "\n",
    "# Set 'stop_datetime' as the index of 'hf_weather'\n",
    "hf_weather.set_index('stop_datetime', inplace=True)"
   ]
  },
  {
   "cell_type": "code",
   "execution_count": 81,
   "id": "18e2ec22",
   "metadata": {},
   "outputs": [
    {
     "name": "stdout",
     "output_type": "stream",
     "text": [
      "0.06976744186046512\n",
      "rating\n",
      "good    0.005383\n",
      "bad     0.007156\n",
      "Name: arrest_made, dtype: float64\n"
     ]
    }
   ],
   "source": [
    "arrest_rate = hf_weather.groupby(['reason_for_stop', 'rating']).arrest_made.mean()\n",
    "\n",
    "# Print the arrest rate for moving violations in bad weather\n",
    "print(arrest_rate.loc['Moving Violation','bad'])\n",
    "\n",
    "# Print the arrest rates for speeding violations in all weather conditions\n",
    "print(arrest_rate.loc['Speed Related'])"
   ]
  },
  {
   "cell_type": "code",
   "execution_count": null,
   "id": "6b268635",
   "metadata": {},
   "outputs": [],
   "source": []
  }
 ],
 "metadata": {
  "kernelspec": {
   "display_name": "Python 3 (ipykernel)",
   "language": "python",
   "name": "python3"
  },
  "language_info": {
   "codemirror_mode": {
    "name": "ipython",
    "version": 3
   },
   "file_extension": ".py",
   "mimetype": "text/x-python",
   "name": "python",
   "nbconvert_exporter": "python",
   "pygments_lexer": "ipython3",
   "version": "3.9.7"
  }
 },
 "nbformat": 4,
 "nbformat_minor": 5
}
